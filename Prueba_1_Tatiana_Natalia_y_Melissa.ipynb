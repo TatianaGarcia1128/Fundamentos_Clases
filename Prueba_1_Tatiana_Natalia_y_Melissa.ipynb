{
  "cells": [
    {
      "cell_type": "markdown",
      "metadata": {
        "id": "7vGMRorix7fJ"
      },
      "source": [
        "# **Prueba \\#1**\n",
        "\n",
        "En la siguiente pureba se evalua de manera EXCLUSIVA lo que se solicita, cualquier otra respuesta adicional a ella será valorada, más no evaluada. Entregue la prueba en un repositorio de github antes de el lunes 7 de agosto a las 23:59:59.\n",
        "\n"
      ]
    },
    {
      "cell_type": "markdown",
      "source": [
        "Natalia López - Tatiana García - Melissa Ortega\n",
        "\n",
        "Agosto 6, 2023"
      ],
      "metadata": {
        "id": "9b7Qzov6LMUP"
      }
    },
    {
      "cell_type": "markdown",
      "metadata": {
        "id": "2JiTz8I9yhXB"
      },
      "source": [
        "## **Ejercicio 1** (50 pts)\n",
        "\n",
        "Escriba una clase `Pedido` que pueda ser usada para gestionar la información de los pedidos realizados a una pastelería (o carnicería o tienda de ropa o empresa que ud desee). Evite usar módulos como numpy, pandas o cualquier otro.\n",
        "\n",
        "### **Rubrica**:\n",
        "\n",
        "1. Generación de la clase que funcione correctamente con al menos 2 métodos y 2 atributos. **30 pts**.\n",
        "2. Comentarios y  documentación que sirva para quien deba usar la clase. **5 pts**.\n",
        "3. Pertinencia de la clase en el ámbito, ¿Por qué será útil esta herramienta y cómo ayudará a mejorar el negocio? esta será entregada en una celda de texto. **10 pts**.\n",
        "4. ¿Cree que se pueda construir una clase hija que ayude al proceso? Si sí constrúyala, sino, argumente por qué en una célda de código. **5 pts**."
      ]
    },
    {
      "cell_type": "code",
      "source": [
        "# Creando la clase Pedido\n",
        "class Pedido():\n",
        "    # Inicializar los atributos de cada pedido\n",
        "    def __init__(self, vendedor: str, tienda: str, fecha: str):\n",
        "      '''\n",
        "      Constructor que inicializa los atributos:\n",
        "        - info(dict): Información general del pedido.\n",
        "        - articles_list (list): Lista que almacena los artículos del pedido.\n",
        "        - num_articles (int): Número de artículos en el pedido.\n",
        "      Args:\n",
        "        - vendedor (str): Nombre del vendedor que crea el pedido.\n",
        "        - tienda (str): Nombre de la tienda en donde se crea el pedido.\n",
        "        - Fecha (str): Fecha en que se realiza el pedido.\n",
        "      '''\n",
        "      self.info = {\"Vendedor\": vendedor,\n",
        "                   \"Tienda\": tienda,\n",
        "                   \"Fecha\": fecha}\n",
        "      self.num_articles = 0\n",
        "      self.articles_list = []\n",
        "      print('Bienvenido al sistema de pedidos de Tienda S.A.S')\n",
        "\n",
        "    # Método 1: agregar artículos al pedido\n",
        "    def agregar_articulos(self):\n",
        "      '''\n",
        "      Método que añade uno o más artículos al pedido.\n",
        "      Args: None\n",
        "      Returns (str): confirmación de pedido.\n",
        "      '''\n",
        "      articles = int(input(\"Ingrese el número de artículos que desea añadir al pedido: \"))\n",
        "      added_articles = [input(f\"Ingrese el artículo número {n+1}: \") for n in range(articles)]\n",
        "      self.articles_list.extend(added_articles)\n",
        "      self.num_articles += articles\n",
        "      print(f\"{self.info['Vendedor']} ha creado con éxito el pedido en la tienda {self.info['Tienda']}\")\n",
        "      print('*'*20)\n",
        "\n",
        "    # Método 2: eliminar un artículo del pedido\n",
        "    def eliminar_articulos(self):\n",
        "      '''\n",
        "      Método que elimina un artículo del pedido.\n",
        "      Args: None\n",
        "      Returns (str): confirmación de eliminación.\n",
        "      '''\n",
        "      deleted_article = input(\"Ingrese el nombre del artículo que desea eliminar del pedido: \")\n",
        "\n",
        "      if deleted_article in self.articles_list:\n",
        "          self.articles_list.remove(deleted_article)\n",
        "          self.num_articles -= 1\n",
        "          print(f\"Se ha eliminado el artículo '{deleted_article}' del pedido.\")\n",
        "      else:\n",
        "          print(f\"El artículo '{deleted_article}' no está en el pedido.\")\n",
        "      print('*'*20)\n",
        "\n",
        "    # Método 3: consultar un pedido\n",
        "    def consultar_pedido(self):\n",
        "      '''\n",
        "      Método para consultar la información de un pedido\n",
        "      Args: None\n",
        "      Returns (str): información del pedido.\n",
        "      '''\n",
        "      print(f\"El pedido creado por {self.info['Vendedor']} en {self.info['Tienda']} contiene {self.num_articles} artículo(s): {self.articles_list}\")\n",
        "\n",
        "# Accediendo a la clase\n",
        "pedido1 = Pedido('Natalia', 'C.C Mayorca', '06/08/2023')\n",
        "\n",
        "# Utilizando los métodos creados\n",
        "pedido1.agregar_articulos()\n",
        "pedido1.eliminar_articulos()\n",
        "pedido1.consultar_pedido()"
      ],
      "metadata": {
        "colab": {
          "base_uri": "https://localhost:8080/"
        },
        "id": "-nL0yC1BaCow",
        "outputId": "da3bca60-fff8-4afd-f64f-c67b37531128"
      },
      "execution_count": null,
      "outputs": [
        {
          "output_type": "stream",
          "name": "stdout",
          "text": [
            "Bienvenido al sistema de pedidos de Tienda S.A.S\n",
            "Ingrese el número de artículos que desea añadir al pedido: 3\n",
            "Ingrese el artículo número 1: Blusa\n",
            "Ingrese el artículo número 2: Jean\n",
            "Ingrese el artículo número 3: Medias\n",
            "Natalia ha creado con éxito el pedido en la tienda C.C Mayorca\n",
            "********************\n",
            "Ingrese el nombre del artículo que desea eliminar del pedido: Medias\n",
            "Se ha eliminado el artículo 'Medias' del pedido.\n",
            "********************\n",
            "El pedido creado por Natalia en C.C Mayorca contiene 2 artículo(s): ['Blusa', 'Jean']\n"
          ]
        }
      ]
    },
    {
      "cell_type": "markdown",
      "source": [
        "La clase \"Pedido\" es útil para la tienda de ropa, ya que permite gestionar la información de cada pedido realizado de manera organizada. Con esta clase, se puede administrar la cantidad de productos y la lista de los productos de cada pedido. Así como otra información extra como la fecha, el vendedor y el nombre de la tienda.\n",
        "\n",
        "La clase hija \"PedidoRegalo\" amplía la funcionalidad de la clase Pedido, pues permite además personalizar un mensaje para cada cliente. Este tipo de pedidos genera valor agregado a los clientes en el momento de programar sus envíos, diferenciandonos de la competencia."
      ],
      "metadata": {
        "id": "2C-yhI4iJC7u"
      }
    },
    {
      "cell_type": "code",
      "execution_count": null,
      "metadata": {
        "id": "AgwS8cBnx5Zc",
        "colab": {
          "base_uri": "https://localhost:8080/"
        },
        "outputId": "55969840-0894-4920-8f59-3ca80460f40f"
      },
      "outputs": [
        {
          "output_type": "stream",
          "name": "stdout",
          "text": [
            "Bienvenido al sistema de pedidos de Tienda S.A.S\n",
            "Ingrese el motivo del regalo (Cumpleaños, aniversario, navidad, etc.): Cumpleanos\n",
            "Ingrese el mensaje para la tarjeta: Feliz día\n",
            "Ingrese el número de artículos que desea añadir al pedido: 1\n",
            "Ingrese el artículo número 1: Blusa\n",
            "Tatiana ha creado con éxito el pedido en la tienda C.C Mayorca\n",
            "********************\n",
            "El pedido creado por Tatiana en C.C Mayorca contiene 1 artículo(s): ['Blusa']\n"
          ]
        }
      ],
      "source": [
        "# Clase hija\n",
        "class PedidoRegalo(Pedido):\n",
        "  '''\n",
        "  La clase Pedido_regalo hereda todos los atributos y métodos de Pedido,\n",
        "  pero además tiene 2 atributos específicos (motivo y mensaje) para incluir a los pedidos especiales\n",
        "  '''\n",
        "  def __init__(self, vendedor: str, tienda: str, fecha: str):\n",
        "    Pedido.__init__(self, vendedor, tienda, fecha)  # Llamada al constructor de la clase base Pedido\n",
        "    self.motivo = input('Ingrese el motivo del regalo (Cumpleaños, aniversario, navidad, etc.): ')\n",
        "    self.mensaje = input('Ingrese el mensaje para la tarjeta: ')\n",
        "\n",
        "# Accediendo a la clase hija\n",
        "pedido2 = PedidoRegalo('Tatiana', 'C.C Mayorca', '06/08/2023')\n",
        "\n",
        "# Utilizando los métodos heredados\n",
        "pedido2.agregar_articulos()\n",
        "pedido2.consultar_pedido()"
      ]
    },
    {
      "cell_type": "markdown",
      "metadata": {
        "id": "pnfosm2l12c5"
      },
      "source": [
        "## **Ejercicio 2** (50 pts)\n",
        "\n",
        "Realice los siguientes ejercicios con numpy\n",
        "\n",
        "1. Resolver el siguiente sistema de ecuaciones. **16 pts**\n",
        "\n",
        "$$\n",
        "2x + 3y - z + 4w + 5v = 15\n",
        "$$\n",
        "\n",
        "$$\n",
        "x - 2y + 4z - 3w + v = 6\n",
        "$$\n",
        "\n",
        "$$\n",
        "3x + 2y - 3z + 5w - 2v = 11\n",
        "$$\n",
        "\n",
        "$$\n",
        "4x + y - 2z + 3w + 2v = 8\n",
        "$$\n",
        "\n",
        "$$\n",
        "x + y + z + w + v = 7\n",
        "$$\n",
        "\n",
        "2. Calcule el valor del número de Euler o constante de Napier $e = 2,71828$ como:\n",
        "\n",
        "$$e = \\sum_i ^{\\infty} \\frac{1}{n!}$$\n",
        "\n",
        "  ¿Qué precisión en términos de el número de términos necesita para dar cuenta de los primeros 5 números de la coma decimal? **18 pts**\n",
        "\n",
        "3. Escriba el polinomio característico de la matriz en una celda de texto, déje registrado en una de código cómo obtuvo los valores característicos.  **16 pts**\n",
        "\n",
        "$$\n",
        "\\begin{pmatrix}\n",
        "2 & 1 & 1 \\\\\n",
        "4 & 3 & 2 \\\\\n",
        "1 & 1 & 2 \\\\\n",
        "\\end{pmatrix}\n",
        "$$\n",
        "\n"
      ]
    },
    {
      "cell_type": "markdown",
      "source": [
        "Respuesta ejercicio 2.1\n"
      ],
      "metadata": {
        "id": "sXVEhEZG8XkZ"
      }
    },
    {
      "cell_type": "code",
      "source": [
        "# Importando las librerias necesarias\n",
        "import numpy as np\n",
        "\n",
        "# Definiendo el sistema de ecuaciones: ingresando los coeficientes en una matriz\n",
        "coef_matrix = np.array([[2, 3, -1, 4, 5],\n",
        "                        [3, -2, 4, -3, 1],\n",
        "                        [3, 2, -3, 5, -2],\n",
        "                        [4, 1, -2, 3, 2],\n",
        "                        [1, 1, 1, 1, 1]])\n",
        "\n",
        "# Definiendo Array con los términos independientes\n",
        "independent_coef = np.array([15, 6, 11, 8, 7])\n",
        "\n",
        "# Resolviendo el sistema de ecuaciones usando Numpy\n",
        "solution = np.linalg.solve(coef_matrix, independent_coef)\n",
        "\n",
        "# Mostrando los resultados\n",
        "print(f\"La solución al sistema de ecuaciones dado es: \")\n",
        "print(f\" x = {round(solution[0],2)}\")\n",
        "print(f\" y = {round(solution[1],2)}\")\n",
        "print(f\" z = {round(solution[2],2)}\")\n",
        "print(f\" w = {round(solution[3],2)}\")\n",
        "print(f\" v = {round(solution[4],2)}\")\n",
        "\n",
        "# Confirmando la solución\n",
        "print()\n",
        "print(\"Verificando igualdad de la primera ecuación:\")\n",
        "round(sum(coef_matrix[0,:]*solution),0)"
      ],
      "metadata": {
        "colab": {
          "base_uri": "https://localhost:8080/"
        },
        "id": "PMKgauBb8Wto",
        "outputId": "4f87213e-08a3-49be-b5bb-c1721c6d3f0a"
      },
      "execution_count": null,
      "outputs": [
        {
          "output_type": "stream",
          "name": "stdout",
          "text": [
            "La solución al sistema de ecuaciones dado es: \n",
            " x = -4.46\n",
            " y = -19.09\n",
            " z = 8.77\n",
            " w = 18.91\n",
            " v = 2.86\n",
            "\n",
            "Verificando igualdad de la primera ecuación:\n"
          ]
        },
        {
          "output_type": "execute_result",
          "data": {
            "text/plain": [
              "15.0"
            ]
          },
          "metadata": {},
          "execution_count": 3
        }
      ]
    },
    {
      "cell_type": "code",
      "source": [
        "#Importando las librerías necesarias\n",
        "import numpy as np\n",
        "from scipy.special import factorial\n",
        "\n",
        "#Definiendo la función euler\n",
        "def euler(m:int):\n",
        "    '''\n",
        "    La función euler Calcula una aproximación del número de Euler 𝑒 ≈ 2.71828 con una precisión de hasta 5 decimales.\n",
        "\n",
        "    Parámetros:\n",
        "    m (int): Número de términos a utilizar en la serie para la aproximación.\n",
        "\n",
        "    Retorna:\n",
        "    float: Aproximación del número de Euler utilizando la cantidad de términos especificada.\n",
        "\n",
        "    Ejemplo:\n",
        "    >>> euler(10)\n",
        "    2.7182818011463845\n",
        "    '''\n",
        "    arr = np.arange(m)\n",
        "    fact=factorial(arr, exact=True)\n",
        "    return np.sum(1 / fact)\n",
        "\n",
        "# Calculando la cantidad de terminos requeridos para tener la aproximación solicitada\n",
        "precision = 0\n",
        "napier = 0\n",
        "while napier < 2.71828:\n",
        "  precision += 1\n",
        "  napier = euler(precision)\n",
        "\n",
        "# Implementando la función euler\n",
        "euler_aprox = euler(precision)\n",
        "\n",
        "# Resultado\n",
        "print(f\"La aproximación es: {euler_aprox}\")\n",
        "print(f\"La cantidad de términos requerida para tener una precisión de 2.71828 es de: {precision}\")\n"
      ],
      "metadata": {
        "colab": {
          "base_uri": "https://localhost:8080/"
        },
        "id": "kBfZNXmzAyJF",
        "outputId": "7df56706-16a0-437b-afe1-630a4da9151c"
      },
      "execution_count": null,
      "outputs": [
        {
          "output_type": "stream",
          "name": "stdout",
          "text": [
            "La aproximación es: 2.718281525573192\n",
            "La cantidad de terminos requerida para tener una precisión de 2.71828 es de: 10\n"
          ]
        }
      ]
    },
    {
      "cell_type": "markdown",
      "source": [
        "Respuesta ejercicio 2.3\n",
        "\n",
        "El polinomio característico de la matriz dada es:\n",
        "λ^3 + 6,9 λ ^2 + 8,6 λ + 2,7 = 0\n",
        "\n",
        "\n"
      ],
      "metadata": {
        "id": "jCeGZwzT6ZPa"
      }
    },
    {
      "cell_type": "code",
      "execution_count": null,
      "metadata": {
        "id": "8gu89-aP5ibM",
        "colab": {
          "base_uri": "https://localhost:8080/"
        },
        "outputId": "d179778d-1a49-492d-c5e8-b745d90f501d"
      },
      "outputs": [
        {
          "output_type": "stream",
          "name": "stdout",
          "text": [
            "Los valores propios de la matriz A son: [5.44948974 0.55051026 1.        ]\n"
          ]
        }
      ],
      "source": [
        "# Importando las librerías necesarias\n",
        "import numpy as np\n",
        "\n",
        "# Definiendo la matriz\n",
        "A = np.array( [[2,1,1], [4,3,2], [1,1,2]] )\n",
        "\n",
        "# Usando Numpy para encontrar los valores característicos de la matriz\n",
        "eigen_values, v = np.linalg.eig(A)\n",
        "\n",
        "# Resultado\n",
        "print(f\"Los valores característicos de la matriz A son: {eigen_values}\")"
      ]
    }
  ],
  "metadata": {
    "colab": {
      "provenance": []
    },
    "kernelspec": {
      "display_name": "Python 3 (ipykernel)",
      "language": "python",
      "name": "python3"
    },
    "language_info": {
      "codemirror_mode": {
        "name": "ipython",
        "version": 3
      },
      "file_extension": ".py",
      "mimetype": "text/x-python",
      "name": "python",
      "nbconvert_exporter": "python",
      "pygments_lexer": "ipython3",
      "version": "3.10.6"
    }
  },
  "nbformat": 4,
  "nbformat_minor": 0
}