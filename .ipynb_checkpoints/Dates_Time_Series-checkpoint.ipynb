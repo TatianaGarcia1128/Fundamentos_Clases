{
 "cells": [
  {
   "cell_type": "markdown",
   "metadata": {},
   "source": [
    "# **Working with Dates and Time Series Data**\n",
    "\n",
    "En el mundo del análisis de datos, el tiempo desempeña un papel crucial. Las fechas y las secuencias temporales son elementos esenciales para comprender patrones, tendencias y relaciones en una amplia variedad de conjuntos de datos. Para gestionar y analizar eficazmente los datos relacionados con el tiempo, se utilizan conceptos como \"datetimes\" (fechas y horas) y \"time series\" (series temporales). Estas herramientas permiten a los analistas extraer información valiosa y tomar decisiones informadas en diversos campos, desde finanzas hasta ciencias sociales y más allá.\n",
    "\n"
   ]
  },
  {
   "cell_type": "markdown",
   "metadata": {},
   "source": [
    "## **Datetimes:**\n",
    "\n",
    "Los \"datetimes\" son combinaciones de fechas y horas que se utilizan para representar momentos específicos en el tiempo. Estas combinaciones son más que simples números; incorporan contextos temporales que son cruciales para el análisis. Las necesidades de utilizar \"datetimes\" en el análisis de datos incluyen:\n",
    "\n",
    "1. Secuenciación temporal: Almacenar y organizar datos en función de sus marcas de tiempo permite capturar la secuencia en la que ocurrieron los eventos. Esto es esencial para comprender el orden y la relación temporal entre diferentes observaciones.\n",
    "\n",
    "2. Análisis temporal: Las tendencias, patrones y estacionalidades en los datos a menudo son más claros cuando se analizan en función del tiempo. Las \"datetimes\" permiten visualizar y analizar cómo evolucionan los datos a lo largo del tiempo.\n",
    "\n",
    "3. Segmentación y agrupación: Las \"datetimes\" permiten agrupar datos en intervalos específicos, como días, semanas o meses. Esto facilita la agregación y el análisis de tendencias en diferentes escalas temporales.\n",
    "\n"
   ]
  },
  {
   "cell_type": "markdown",
   "metadata": {},
   "source": [
    "##**Time Series:**\n",
    "\n",
    "Una \"time series\" es una secuencia ordenada de datos observados en diferentes momentos a lo largo del tiempo. Estos datos pueden representar una variedad de fenómenos, como ventas diarias, precios de acciones, temperaturas, tasas de inflación y más. Las necesidades de utilizar \"time series\" en el análisis de datos incluyen:\n",
    "\n",
    "1. Predicción y pronóstico: Las \"time series\" históricas pueden usarse para predecir valores futuros. Modelos estadísticos y de aprendizaje automático pueden aprovechar patrones pasados para pronosticar tendencias y comportamientos futuros.\n",
    "\n",
    "2. Detección de anomalías: Identificar puntos atípicos en una serie temporal puede ser crucial para la detección temprana de problemas o oportunidades. Las anomalías pueden indicar cambios significativos en el comportamiento normal de los datos.\n",
    "\n",
    "3. Análisis de tendencias y estacionalidad: Las \"time series\" a menudo exhiben patrones estacionales y tendencias a lo largo del tiempo. Estos patrones pueden proporcionar información valiosa sobre ciclos económicos, cambios estacionales y otros fenómenos recurrentes.\n",
    "\n",
    "4. Optimización temporal: Al analizar series temporales, es posible identificar los momentos más óptimos para tomar decisiones, como cuándo invertir, comprar o vender."
   ]
  },
  {
   "cell_type": "code",
   "execution_count": null,
   "metadata": {},
   "outputs": [],
   "source": []
  },
  {
   "cell_type": "code",
   "execution_count": null,
   "metadata": {},
   "outputs": [],
   "source": [
    "df = pd.read_csv('https://raw.githubusercontent.com/tomasate/Datos_Clases/main/Datos_1/ETH_1h.csv')"
   ]
  },
  {
   "cell_type": "code",
   "execution_count": null,
   "metadata": {},
   "outputs": [],
   "source": []
  },
  {
   "cell_type": "code",
   "execution_count": null,
   "metadata": {},
   "outputs": [],
   "source": []
  },
  {
   "cell_type": "code",
   "execution_count": null,
   "metadata": {},
   "outputs": [],
   "source": []
  },
  {
   "cell_type": "markdown",
   "metadata": {},
   "source": [
    "Si intentamos usar un método de los datetimes veremos que son apenas str"
   ]
  },
  {
   "cell_type": "code",
   "execution_count": null,
   "metadata": {},
   "outputs": [],
   "source": []
  },
  {
   "cell_type": "markdown",
   "metadata": {},
   "source": [
    "El método `.to_datetime` puede ser aplicado para redefinir una columna de valores de tipo objeto.\n",
    "Sin embargo en este caso obtendremos un error de formato\n",
    "```\n",
    "df['Date'] = pd.to_datetime(df['Date'])\n",
    "```\n",
    "\n",
    "Para solucionarlo, podemos dirigirnos a la documentación y ver cómo debemos formatear [Python doc](https://docs.python.org/3.6/library/datetime.html#strftime-and-strptime-behavior)."
   ]
  },
  {
   "cell_type": "code",
   "execution_count": null,
   "metadata": {},
   "outputs": [],
   "source": []
  },
  {
   "cell_type": "code",
   "execution_count": null,
   "metadata": {},
   "outputs": [],
   "source": []
  },
  {
   "cell_type": "code",
   "execution_count": null,
   "metadata": {},
   "outputs": [],
   "source": []
  },
  {
   "cell_type": "markdown",
   "metadata": {},
   "source": [
    "\n",
    "Puede convertir una columna a una serie de tiempo al cargar la data"
   ]
  },
  {
   "cell_type": "code",
   "execution_count": null,
   "metadata": {},
   "outputs": [],
   "source": [
    "import datetime as dt\n",
    "d_parser = lambda x: dt.datetime.strptime(x, '%Y-%m-%d %I-%p')\n",
    "df = pd.read_csv('https://raw.githubusercontent.com/tomasate/Datos_Clases/main/Datos_1/ETH_1h.csv', parse_dates=['Date'], date_parser=d_parser)"
   ]
  },
  {
   "cell_type": "code",
   "execution_count": null,
   "metadata": {},
   "outputs": [],
   "source": []
  },
  {
   "cell_type": "code",
   "execution_count": null,
   "metadata": {},
   "outputs": [],
   "source": []
  },
  {
   "cell_type": "code",
   "execution_count": null,
   "metadata": {},
   "outputs": [],
   "source": []
  },
  {
   "cell_type": "code",
   "execution_count": null,
   "metadata": {},
   "outputs": [],
   "source": []
  },
  {
   "cell_type": "code",
   "execution_count": null,
   "metadata": {},
   "outputs": [],
   "source": []
  },
  {
   "cell_type": "code",
   "execution_count": null,
   "metadata": {},
   "outputs": [],
   "source": []
  },
  {
   "cell_type": "code",
   "execution_count": null,
   "metadata": {},
   "outputs": [],
   "source": []
  },
  {
   "cell_type": "code",
   "execution_count": null,
   "metadata": {},
   "outputs": [],
   "source": []
  },
  {
   "cell_type": "code",
   "execution_count": null,
   "metadata": {},
   "outputs": [],
   "source": []
  },
  {
   "cell_type": "code",
   "execution_count": null,
   "metadata": {},
   "outputs": [],
   "source": []
  },
  {
   "cell_type": "markdown",
   "metadata": {},
   "source": [
    "Hagamos la serie de tiempos el índice\n"
   ]
  },
  {
   "cell_type": "code",
   "execution_count": null,
   "metadata": {},
   "outputs": [],
   "source": []
  },
  {
   "cell_type": "code",
   "execution_count": null,
   "metadata": {},
   "outputs": [],
   "source": []
  },
  {
   "cell_type": "markdown",
   "metadata": {},
   "source": [
    "Este cambio se hace permanente en:\n"
   ]
  },
  {
   "cell_type": "code",
   "execution_count": null,
   "metadata": {},
   "outputs": [],
   "source": []
  },
  {
   "cell_type": "code",
   "execution_count": null,
   "metadata": {},
   "outputs": [],
   "source": []
  },
  {
   "cell_type": "markdown",
   "metadata": {},
   "source": [
    "Ahora, extraemos la data requerida con un indexador:"
   ]
  },
  {
   "cell_type": "code",
   "execution_count": null,
   "metadata": {},
   "outputs": [],
   "source": []
  },
  {
   "cell_type": "markdown",
   "metadata": {},
   "source": [
    "Extraemos la data de una forma más compleja:"
   ]
  },
  {
   "cell_type": "code",
   "execution_count": null,
   "metadata": {},
   "outputs": [],
   "source": []
  },
  {
   "cell_type": "markdown",
   "metadata": {},
   "source": [
    "Extraemos solo una columna"
   ]
  },
  {
   "cell_type": "code",
   "execution_count": null,
   "metadata": {},
   "outputs": [],
   "source": []
  },
  {
   "cell_type": "markdown",
   "metadata": {},
   "source": [
    "El promedio de esa columna"
   ]
  },
  {
   "cell_type": "code",
   "execution_count": null,
   "metadata": {},
   "outputs": [],
   "source": []
  },
  {
   "cell_type": "markdown",
   "metadata": {},
   "source": [
    "24 horas de data"
   ]
  },
  {
   "cell_type": "code",
   "execution_count": null,
   "metadata": {},
   "outputs": [],
   "source": []
  },
  {
   "cell_type": "markdown",
   "metadata": {},
   "source": [
    "Los valores de High para un día"
   ]
  },
  {
   "cell_type": "code",
   "execution_count": null,
   "metadata": {},
   "outputs": [],
   "source": []
  },
  {
   "cell_type": "markdown",
   "metadata": {},
   "source": [
    "El más alto valor de High de un día"
   ]
  },
  {
   "cell_type": "code",
   "execution_count": null,
   "metadata": {},
   "outputs": [],
   "source": []
  },
  {
   "cell_type": "markdown",
   "metadata": {},
   "source": [
    "Podemos hacer un remuestreo de la data.\n",
    "\n",
    "API de Python para objetos [date_offset](https://pandas.pydata.org/pandas-docs/stable/user_guide/timeseries.html#dateoffset-objects)."
   ]
  },
  {
   "cell_type": "code",
   "execution_count": null,
   "metadata": {},
   "outputs": [],
   "source": []
  },
  {
   "cell_type": "code",
   "execution_count": null,
   "metadata": {},
   "outputs": [],
   "source": []
  },
  {
   "cell_type": "markdown",
   "metadata": {},
   "source": [
    "Veamos cuánto es el mayor valor del primero de enero"
   ]
  },
  {
   "cell_type": "code",
   "execution_count": null,
   "metadata": {},
   "outputs": [],
   "source": []
  },
  {
   "cell_type": "markdown",
   "metadata": {},
   "source": [
    "To show graphs inline, use \"magic\" command %matplotlib (matplotlib should already be installed):"
   ]
  },
  {
   "cell_type": "code",
   "execution_count": null,
   "metadata": {},
   "outputs": [],
   "source": []
  },
  {
   "cell_type": "code",
   "execution_count": null,
   "metadata": {},
   "outputs": [],
   "source": []
  },
  {
   "cell_type": "markdown",
   "metadata": {},
   "source": [
    "Plot highs as defined above:"
   ]
  },
  {
   "cell_type": "code",
   "execution_count": null,
   "metadata": {},
   "outputs": [],
   "source": []
  },
  {
   "cell_type": "code",
   "execution_count": null,
   "metadata": {},
   "outputs": [],
   "source": []
  }
 ],
 "metadata": {
  "kernelspec": {
   "display_name": "Python 3 (ipykernel)",
   "language": "python",
   "name": "python3"
  },
  "language_info": {
   "codemirror_mode": {
    "name": "ipython",
    "version": 3
   },
   "file_extension": ".py",
   "mimetype": "text/x-python",
   "name": "python",
   "nbconvert_exporter": "python",
   "pygments_lexer": "ipython3",
   "version": "3.10.6"
  }
 },
 "nbformat": 4,
 "nbformat_minor": 4
}
